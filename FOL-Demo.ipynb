{
 "cells": [
  {
   "cell_type": "markdown",
   "metadata": {},
   "source": [
    "# First Order Logic with Tensors\n",
    "\n",
    "This is an implemetation of [Towards a Formal Distributional Semantics: Simulating Logical Calculi with Tensors](https://arxiv.org/pdf/1304.5823.pdf) (Grefenstette, 2013) using `python` and `numpy`."
   ]
  },
  {
   "cell_type": "code",
   "execution_count": 1,
   "metadata": {
    "collapsed": true
   },
   "outputs": [],
   "source": [
    "import LogicModel as m"
   ]
  },
  {
   "cell_type": "markdown",
   "metadata": {},
   "source": [
    "## Build the Domain\n",
    "\n",
    "The domain can be loaded as a `list` of elements."
   ]
  },
  {
   "cell_type": "code",
   "execution_count": 2,
   "metadata": {
    "collapsed": true
   },
   "outputs": [],
   "source": [
    "my_domain = [\n",
    "    \"john\", \n",
    "    \"chris\", \n",
    "    \"tom\", \n",
    "    \"mary\", \n",
    "    \"bill\"\n",
    "]"
   ]
  },
  {
   "cell_type": "markdown",
   "metadata": {},
   "source": [
    "## Build the Predicates\n",
    "\n",
    "Predicates can be loaded as a `dict` with the `key` as the predicate name and the `value` as a `list` representing the elements for which this predicate is true."
   ]
  },
  {
   "cell_type": "markdown",
   "metadata": {},
   "source": [
    "### Unary Predicates"
   ]
  },
  {
   "cell_type": "code",
   "execution_count": 3,
   "metadata": {
    "collapsed": true
   },
   "outputs": [],
   "source": [
    "my_unary_preds = {\n",
    "    \"is_mathematician\": [\"john\", \"chris\"],    # John and Chris are mathematicians, the others are not\n",
    "    \"is_single\": [\"bill\"]                     # Bill is the only single person in the domain\n",
    "}"
   ]
  },
  {
   "cell_type": "markdown",
   "metadata": {},
   "source": [
    "### Binary Predicates\n",
    "\n",
    "In this case, the elements of the `list` are a `tuple` representing the two elements involved in the binary predicate."
   ]
  },
  {
   "cell_type": "code",
   "execution_count": 4,
   "metadata": {
    "collapsed": true
   },
   "outputs": [],
   "source": [
    "my_binary_preds = {\n",
    "    \"hates\": [(\"tom\", \"chris\"), (\"tom\", \"john\"), (\"chris\", \"chris\")],   # e.g. Tom hates Chris and John but no else\n",
    "    \"loves\": [(\"mary\", \"john\"), (\"john\", \"john\"), (\"mary\", \"mary\")]     # e.g. Mary loves John and herself and no one else\n",
    "}"
   ]
  },
  {
   "cell_type": "markdown",
   "metadata": {},
   "source": [
    "## Build the Model"
   ]
  },
  {
   "cell_type": "code",
   "execution_count": 5,
   "metadata": {
    "collapsed": false
   },
   "outputs": [],
   "source": [
    "my_model = m.LogicModel(\n",
    "    listOfElements=my_domain,\n",
    "    dictionaryOfUnaryPredicates=my_unary_preds,\n",
    "    dictionaryOfBinaryPredicates=my_binary_preds\n",
    ")\n",
    "\n",
    "my_model.buildAll()"
   ]
  },
  {
   "cell_type": "markdown",
   "metadata": {},
   "source": [
    "Here's what the matrix representing \"is_mathematician\" looks like where column represents an element in the domain."
   ]
  },
  {
   "cell_type": "code",
   "execution_count": 6,
   "metadata": {
    "collapsed": false
   },
   "outputs": [
    {
     "data": {
      "text/plain": [
       "array([[ 1.,  1.,  0.,  0.,  0.],\n",
       "       [ 0.,  0.,  1.,  1.,  1.]])"
      ]
     },
     "execution_count": 6,
     "metadata": {},
     "output_type": "execute_result"
    }
   ],
   "source": [
    " my_model.unaryPredicateMatrices[\"is_mathematician\"]"
   ]
  },
  {
   "cell_type": "markdown",
   "metadata": {},
   "source": [
    "Binary predicates require a tensor where each column still represents an element in the domain, but the rest requires a bit more work to interpret."
   ]
  },
  {
   "cell_type": "code",
   "execution_count": 11,
   "metadata": {
    "collapsed": false
   },
   "outputs": [
    {
     "data": {
      "text/plain": [
       "array([[[ 1.,  0.,  0.,  1.,  0.],\n",
       "        [ 0.,  0.,  0.,  0.,  0.],\n",
       "        [ 0.,  0.,  0.,  0.,  0.],\n",
       "        [ 0.,  0.,  0.,  1.,  0.],\n",
       "        [ 0.,  0.,  0.,  0.,  0.]],\n",
       "\n",
       "       [[ 0.,  1.,  1.,  0.,  1.],\n",
       "        [ 1.,  1.,  1.,  1.,  1.],\n",
       "        [ 1.,  1.,  1.,  1.,  1.],\n",
       "        [ 1.,  1.,  1.,  0.,  1.],\n",
       "        [ 1.,  1.,  1.,  1.,  1.]]])"
      ]
     },
     "execution_count": 11,
     "metadata": {},
     "output_type": "execute_result"
    }
   ],
   "source": [
    "my_model.binaryPredicateTensors[\"loves\"]"
   ]
  },
  {
   "cell_type": "markdown",
   "metadata": {},
   "source": [
    "## Accessing Truth in the Model"
   ]
  },
  {
   "cell_type": "markdown",
   "metadata": {},
   "source": [
    "Determining the truth of a predicate will output a `2-dimensional` array where: <br>\n",
    "$[1, 0] = True$ <br>\n",
    "$[0, 1] = False$ "
   ]
  },
  {
   "cell_type": "markdown",
   "metadata": {},
   "source": [
    "### \"Tom is a mathematician\""
   ]
  },
  {
   "cell_type": "code",
   "execution_count": 7,
   "metadata": {
    "collapsed": false
   },
   "outputs": [
    {
     "data": {
      "text/plain": [
       "array([[ 0.],\n",
       "       [ 1.]])"
      ]
     },
     "execution_count": 7,
     "metadata": {},
     "output_type": "execute_result"
    }
   ],
   "source": [
    "tom_mathematician = my_model.unaryOp(predicate=\"is_mathematician\", element=\"tom\")\n",
    "tom_mathematician"
   ]
  },
  {
   "cell_type": "markdown",
   "metadata": {},
   "source": [
    "### \"Mary loves John or Mary loves Chris\""
   ]
  },
  {
   "cell_type": "code",
   "execution_count": 8,
   "metadata": {
    "collapsed": false
   },
   "outputs": [
    {
     "data": {
      "text/plain": [
       "array([[ 1.],\n",
       "       [ 0.]])"
      ]
     },
     "execution_count": 8,
     "metadata": {},
     "output_type": "execute_result"
    }
   ],
   "source": [
    "mary_loves_john = my_model.binaryOp(predicate=\"loves\", subjElement=\"mary\", objElement=\"john\")     # True\n",
    "mary_loves_chris = my_model.binaryOp(predicate=\"loves\", subjElement=\"mary\", objElement=\"chris\")   # False\n",
    "\n",
    "mary_loves = my_model.orOp(\n",
    "    truthValue1=mary_loves_john,\n",
    "    truthValue2=mary_loves_chris\n",
    ")\n",
    "\n",
    "mary_loves"
   ]
  },
  {
   "cell_type": "markdown",
   "metadata": {},
   "source": [
    "## Modeling Uncertainty in Truth Values"
   ]
  },
  {
   "cell_type": "markdown",
   "metadata": {},
   "source": [
    "We can adjust the truth values of any predicate to allow for uncertainty."
   ]
  },
  {
   "cell_type": "markdown",
   "metadata": {},
   "source": [
    "### How confident are we about who is a mathematician?"
   ]
  },
  {
   "cell_type": "code",
   "execution_count": 19,
   "metadata": {
    "collapsed": true
   },
   "outputs": [],
   "source": [
    "my_model.updateUnaryPredicate(\n",
    "    element=\"john\", \n",
    "    predicate=\"is_mathematician\", \n",
    "    prob=.99                            # We are 99% confident John is a mathematician\n",
    ")\n",
    "my_model.updateUnaryPredicate(element=\"chris\", predicate=\"is_mathematician\", prob=.7)\n",
    "my_model.updateUnaryPredicate(element=\"bill\", predicate=\"is_mathematician\", prob=.08)"
   ]
  },
  {
   "cell_type": "code",
   "execution_count": 20,
   "metadata": {
    "collapsed": false
   },
   "outputs": [
    {
     "data": {
      "text/plain": [
       "array([[ 0.99,  0.7 ,  0.  ,  0.  ,  0.08],\n",
       "       [ 0.01,  0.3 ,  1.  ,  1.  ,  0.92]])"
      ]
     },
     "execution_count": 20,
     "metadata": {},
     "output_type": "execute_result"
    }
   ],
   "source": [
    "my_model.unaryPredicateMatrices[\"is_mathematician\"]"
   ]
  },
  {
   "cell_type": "code",
   "execution_count": 21,
   "metadata": {
    "collapsed": false
   },
   "outputs": [
    {
     "data": {
      "text/plain": [
       "array([[ 0.99],\n",
       "       [ 0.01]])"
      ]
     },
     "execution_count": 21,
     "metadata": {},
     "output_type": "execute_result"
    }
   ],
   "source": [
    "my_model.unaryOp(predicate=\"is_mathematician\", element=\"john\")"
   ]
  },
  {
   "cell_type": "markdown",
   "metadata": {},
   "source": [
    "### How confident are we about who loves whom?"
   ]
  },
  {
   "cell_type": "code",
   "execution_count": 31,
   "metadata": {
    "collapsed": true
   },
   "outputs": [],
   "source": [
    "my_model.updateBinaryPredicate(\n",
    "    pair=(\"mary\", \"chris\"),\n",
    "    predicate=\"loves\",\n",
    "    prob=.6                        # We are only 60% confident that Mary loves Chris\n",
    ")\n",
    "my_model.updateBinaryPredicate((\"mary\", \"john\"), \"loves\", .05)"
   ]
  },
  {
   "cell_type": "code",
   "execution_count": 32,
   "metadata": {
    "collapsed": false
   },
   "outputs": [
    {
     "data": {
      "text/plain": [
       "array([[[ 1.  ,  0.  ,  0.  ,  0.05,  0.  ],\n",
       "        [ 0.  ,  0.  ,  0.  ,  0.6 ,  0.  ],\n",
       "        [ 0.  ,  0.  ,  0.  ,  0.  ,  0.  ],\n",
       "        [ 0.  ,  0.  ,  0.  ,  1.  ,  0.  ],\n",
       "        [ 0.  ,  0.  ,  0.  ,  0.  ,  0.  ]],\n",
       "\n",
       "       [[ 0.  ,  1.  ,  1.  ,  0.95,  1.  ],\n",
       "        [ 1.  ,  1.  ,  1.  ,  0.4 ,  1.  ],\n",
       "        [ 1.  ,  1.  ,  1.  ,  1.  ,  1.  ],\n",
       "        [ 1.  ,  1.  ,  1.  ,  0.  ,  1.  ],\n",
       "        [ 1.  ,  1.  ,  1.  ,  1.  ,  1.  ]]])"
      ]
     },
     "execution_count": 32,
     "metadata": {},
     "output_type": "execute_result"
    }
   ],
   "source": [
    "my_model.binaryPredicateTensors[\"loves\"]"
   ]
  },
  {
   "cell_type": "code",
   "execution_count": 33,
   "metadata": {
    "collapsed": false
   },
   "outputs": [
    {
     "data": {
      "text/plain": [
       "array([[ 0.62],\n",
       "       [ 0.38]])"
      ]
     },
     "execution_count": 33,
     "metadata": {},
     "output_type": "execute_result"
    }
   ],
   "source": [
    "mary_loves_john_ = my_model.binaryOp(predicate=\"loves\", subjElement=\"mary\", objElement=\"john\")     # 60% likely\n",
    "mary_loves_chris_ = my_model.binaryOp(predicate=\"loves\", subjElement=\"mary\", objElement=\"chris\")   # 5% likely\n",
    "\n",
    "mary_loves_ = my_model.orOp(\n",
    "    truthValue1=mary_loves_john_,\n",
    "    truthValue2=mary_loves_chris_\n",
    ")\n",
    "\n",
    "mary_loves_"
   ]
  }
 ],
 "metadata": {
  "kernelspec": {
   "display_name": "Python 3",
   "language": "python",
   "name": "python3"
  },
  "language_info": {
   "codemirror_mode": {
    "name": "ipython",
    "version": 3
   },
   "file_extension": ".py",
   "mimetype": "text/x-python",
   "name": "python",
   "nbconvert_exporter": "python",
   "pygments_lexer": "ipython3",
   "version": "3.5.2"
  }
 },
 "nbformat": 4,
 "nbformat_minor": 1
}
